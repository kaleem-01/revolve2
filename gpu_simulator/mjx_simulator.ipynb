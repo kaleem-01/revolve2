{
 "cells": [
  {
   "cell_type": "code",
   "execution_count": 1,
   "metadata": {},
   "outputs": [
    {
     "data": {
      "text/plain": [
       "'gpu'"
      ]
     },
     "execution_count": 1,
     "metadata": {},
     "output_type": "execute_result"
    }
   ],
   "source": [
    "import jax\n",
    "jax.default_backend()"
   ]
  },
  {
   "cell_type": "code",
   "execution_count": 2,
   "metadata": {},
   "outputs": [],
   "source": [
    "from mujoco import mjx\n",
    "import mujoco"
   ]
  },
  {
   "cell_type": "markdown",
   "metadata": {},
   "source": [
    "## Example 1: Single Robot Scene"
   ]
  },
  {
   "cell_type": "code",
   "execution_count": 3,
   "metadata": {},
   "outputs": [],
   "source": [
    "# Simulate manual scene\n",
    "from revolve2.simulators.mujoco_simulator._scene_to_model import scene_to_model\n",
    "from revolve2.simulation.scene import Scene\n",
    "from revolve2.standards.simulation_parameters import (\n",
    "    STANDARD_CONTROL_FREQUENCY,\n",
    "    STANDARD_SIMULATION_TIMESTEP,\n",
    ")\n",
    "\n",
    "# Single scene to model\n",
    "from pyrr import Vector3\n",
    "from revolve2.experimentation.logging import setup_logging\n",
    "from revolve2.experimentation.rng import make_rng_time_seed\n",
    "from revolve2.modular_robot import ModularRobot\n",
    "from revolve2.modular_robot.body import RightAngles\n",
    "from revolve2.modular_robot.body.v2 import ActiveHingeV2, BodyV2, BrickV2\n",
    "from revolve2.modular_robot.brain.cpg import BrainCpgNetworkNeighborRandom\n",
    "from revolve2.modular_robot_simulation import ModularRobotScene, simulate_scenes\n",
    "from revolve2.simulation.scene import Pose\n",
    "\n",
    "from revolve2.simulators.mujoco_simulator import LocalSimulator\n",
    "from revolve2.standards import terrains\n",
    "from revolve2.standards.interactive_objects import Ball\n",
    "from revolve2.standards.simulation_parameters import make_standard_batch_parameters\n",
    "import logging\n"
   ]
  },
  {
   "cell_type": "code",
   "execution_count": 4,
   "metadata": {},
   "outputs": [
    {
     "name": "stderr",
     "output_type": "stream",
     "text": [
      "[2024-09-29 14:16:30,257] [INFO] [logging] =======================================\n",
      "[2024-09-29 14:16:30,259] [INFO] [logging] =======================================\n",
      "[2024-09-29 14:16:30,260] [INFO] [logging] =======================================\n",
      "[2024-09-29 14:16:30,261] [INFO] [logging]          New log starts here.          \n",
      "[2024-09-29 14:16:30,262] [INFO] [logging] =======================================\n",
      "[2024-09-29 14:16:30,263] [INFO] [logging] =======================================\n",
      "[2024-09-29 14:16:30,264] [INFO] [logging] =======================================\n",
      "[2024-09-29 14:16:30,266] [INFO] [rng] Rng seed: 1727612190266331\n"
     ]
    },
    {
     "ename": "NameError",
     "evalue": "name 'make_body' is not defined",
     "output_type": "error",
     "traceback": [
      "\u001b[0;31m---------------------------------------------------------------------------\u001b[0m",
      "\u001b[0;31mNameError\u001b[0m                                 Traceback (most recent call last)",
      "Cell \u001b[0;32mIn[4], line 56\u001b[0m\n\u001b[1;32m     47\u001b[0m     \u001b[38;5;66;03m# Simulate the scene.\u001b[39;00m\n\u001b[1;32m     48\u001b[0m     \u001b[38;5;66;03m# A simulator can run multiple sets of scenes sequentially; it can be reused.\u001b[39;00m\n\u001b[1;32m     49\u001b[0m     \u001b[38;5;66;03m# However, in this tutorial we only use it once.\u001b[39;00m\n\u001b[1;32m     50\u001b[0m     simulate_scenes(\n\u001b[1;32m     51\u001b[0m         simulator\u001b[38;5;241m=\u001b[39msimulator,\n\u001b[1;32m     52\u001b[0m         batch_parameters\u001b[38;5;241m=\u001b[39mbatch_parameters,\n\u001b[1;32m     53\u001b[0m         scenes\u001b[38;5;241m=\u001b[39mscene,\n\u001b[1;32m     54\u001b[0m     )\n\u001b[0;32m---> 56\u001b[0m \u001b[43mmain\u001b[49m\u001b[43m(\u001b[49m\u001b[43m)\u001b[49m\n",
      "Cell \u001b[0;32mIn[4], line 10\u001b[0m, in \u001b[0;36mmain\u001b[0;34m()\u001b[0m\n\u001b[1;32m      7\u001b[0m rng \u001b[38;5;241m=\u001b[39m make_rng_time_seed()\n\u001b[1;32m      9\u001b[0m \u001b[38;5;66;03m# Create a body for the robot.\u001b[39;00m\n\u001b[0;32m---> 10\u001b[0m body \u001b[38;5;241m=\u001b[39m \u001b[43mmake_body\u001b[49m()\n\u001b[1;32m     12\u001b[0m \u001b[38;5;250m\u001b[39m\u001b[38;5;124;03m\"\"\"\u001b[39;00m\n\u001b[1;32m     13\u001b[0m \u001b[38;5;124;03mHere we create a brain for the robot.\u001b[39;00m\n\u001b[1;32m     14\u001b[0m \u001b[38;5;124;03mWe choose a 'CPG' brain with random parameters.\u001b[39;00m\n\u001b[1;32m     15\u001b[0m \u001b[38;5;124;03mIf you want to know more about CPGs checkout the Methods section in: https://doi.org/10.1038/s41598-023-48338-4. \u001b[39;00m\n\u001b[1;32m     16\u001b[0m \u001b[38;5;124;03m\"\"\"\u001b[39;00m\n\u001b[1;32m     17\u001b[0m brain \u001b[38;5;241m=\u001b[39m BrainCpgNetworkNeighborRandom(body\u001b[38;5;241m=\u001b[39mbody, rng\u001b[38;5;241m=\u001b[39mrng)\n",
      "\u001b[0;31mNameError\u001b[0m: name 'make_body' is not defined"
     ]
    }
   ],
   "source": [
    "def main() -> None:\n",
    "    \"\"\"Run the simulation.\"\"\"\n",
    "    # Set up logging to give output of your simulation into the command line interface (CLI).\n",
    "    setup_logging()\n",
    "\n",
    "    # Set up a random number generator, used later for the brain.\n",
    "    rng = make_rng_time_seed()\n",
    "\n",
    "    # Create a body for the robot.\n",
    "    body = make_body()\n",
    "\n",
    "    \"\"\"\n",
    "    Here we create a brain for the robot.\n",
    "    We choose a 'CPG' brain with random parameters.\n",
    "    If you want to know more about CPGs checkout the Methods section in: https://doi.org/10.1038/s41598-023-48338-4. \n",
    "    \"\"\"\n",
    "    brain = BrainCpgNetworkNeighborRandom(body=body, rng=rng)\n",
    "\n",
    "    \"\"\"Once we have a body and a brain we combine it into a ModularRobot.\"\"\"\n",
    "    robot = ModularRobot(body, brain)\n",
    "\n",
    "    \"\"\"\n",
    "    To simulate our newly created robot, we create a modular robot scene.\n",
    "    This scene is a combination of one or more modular robots positioned in a given terrain.\n",
    "    \"\"\"\n",
    "    scene = ModularRobotScene(terrain=terrains.flat())\n",
    "    scene.add_robot(robot)\n",
    "\n",
    "    # Additionally to robots you can also add interactive objects to the scene.\n",
    "    scene.add_interactive_object(\n",
    "        Ball(radius=0.1, mass=0.1, pose=Pose(Vector3([-0.5, 0.5, 0])))\n",
    "    )\n",
    "\n",
    "    \"\"\"\n",
    "    After we have the scene ready we create a simulator that will perform the simulation.\n",
    "    This tutorial chooses to use Mujoco, but your version of revolve might contain other simulators as well.\n",
    "    \n",
    "    For mujoco we can select either the `native` mujoco viewer (more performance) or our `custom` viewer (which is more flexible for adjustments).\n",
    "    \"\"\"\n",
    "    simulator = LocalSimulator(viewer_type=\"native\")\n",
    "\n",
    "    # `batch_parameters` are important parameters for simulation.\n",
    "    # Here, we use the parameters that are standard in CI Group.\n",
    "    batch_parameters = make_standard_batch_parameters()\n",
    "    batch_parameters.simulation_time = 600  # Here we update our simulation time.\n",
    "\n",
    "    # Simulate the scene.\n",
    "    # A simulator can run multiple sets of scenes sequentially; it can be reused.\n",
    "    # However, in this tutorial we only use it once.\n",
    "    simulate_scenes(\n",
    "        simulator=simulator,\n",
    "        batch_parameters=batch_parameters,\n",
    "        scenes=scene,\n",
    "    )\n",
    "\n",
    "main()"
   ]
  },
  {
   "cell_type": "code",
   "execution_count": 8,
   "metadata": {},
   "outputs": [
    {
     "ename": "NameError",
     "evalue": "name 'RenderBackend' is not defined",
     "output_type": "error",
     "traceback": [
      "\u001b[0;31m---------------------------------------------------------------------------\u001b[0m",
      "\u001b[0;31mNameError\u001b[0m                                 Traceback (most recent call last)",
      "Cell \u001b[0;32mIn[8], line 3\u001b[0m\n\u001b[1;32m      1\u001b[0m \u001b[38;5;28;01mdef\u001b[39;00m \u001b[38;5;21msimulate_manual_scene\u001b[39m(\n\u001b[1;32m      2\u001b[0m     scene: Scene,\n\u001b[0;32m----> 3\u001b[0m     render_backend: RenderBackend \u001b[38;5;241m=\u001b[39m \u001b[43mRenderBackend\u001b[49m\u001b[38;5;241m.\u001b[39mGLFW,\n\u001b[1;32m      4\u001b[0m ) \u001b[38;5;241m-\u001b[39m\u001b[38;5;241m>\u001b[39m \u001b[38;5;28;01mNone\u001b[39;00m:\n\u001b[1;32m      5\u001b[0m \u001b[38;5;250m    \u001b[39m\u001b[38;5;124;03m\"\"\"\u001b[39;00m\n\u001b[1;32m      6\u001b[0m \u001b[38;5;124;03m    Simulate a scene for checking if a robot was built correctly.\u001b[39;00m\n\u001b[1;32m      7\u001b[0m \n\u001b[1;32m      8\u001b[0m \u001b[38;5;124;03m    :param scene: The scene to simulate.\u001b[39;00m\n\u001b[1;32m      9\u001b[0m \u001b[38;5;124;03m    :param render_backend: The render backend.\u001b[39;00m\n\u001b[1;32m     10\u001b[0m \u001b[38;5;124;03m    \"\"\"\u001b[39;00m\n\u001b[1;32m     11\u001b[0m     logging\u001b[38;5;241m.\u001b[39minfo(\u001b[38;5;124m\"\u001b[39m\u001b[38;5;124mSimulating scene\u001b[39m\u001b[38;5;124m\"\u001b[39m)\n",
      "\u001b[0;31mNameError\u001b[0m: name 'RenderBackend' is not defined"
     ]
    }
   ],
   "source": [
    "\n",
    "\n",
    "def simulate_manual_scene(\n",
    "    scene: Scene,\n",
    "    render_backend: RenderBackend = RenderBackend.GLFW,\n",
    ") -> None:\n",
    "    \"\"\"\n",
    "    Simulate a scene for checking if a robot was built correctly.\n",
    "\n",
    "    :param scene: The scene to simulate.\n",
    "    :param render_backend: The render backend.\n",
    "    \"\"\"\n",
    "    logging.info(\"Simulating scene\")\n",
    "\n",
    "    model, mapping = scene_to_model(\n",
    "        scene, STANDARD_SIMULATION_TIMESTEP, cast_shadows=False, fast_sim=False\n",
    "    )\n",
    "    data = mujoco.MjData(model)\n",
    "    viewer = CustomMujocoViewer(\n",
    "        model, data, mode=CustomMujocoViewerMode.MANUAL, backend=render_backend\n",
    "    )\n",
    "\n",
    "    # Compute forward dynamics without actually stepping forward in time.\n",
    "    mujoco.mj_forward(model, data)\n",
    "\n",
    "    control_interface = ControlInterfaceImpl(\n",
    "        data=data,\n",
    "        abstraction_to_mujoco_mapping=mapping,\n",
    "    )\n",
    "\n",
    "    \"\"\"Here we set our values for cycling different positions.\"\"\"\n",
    "    prev_position: int = (\n",
    "        0  # This is the initial idle position for all hinges (index of the positions).\n",
    "    )\n",
    "    positions: list[float] = [\n",
    "        0.0,\n",
    "        0.5,\n",
    "        1.0,\n",
    "        -0.5,\n",
    "        -1.0,\n",
    "    ]  # Those are the possible cycle positions we want.\n",
    "    target, current = (\n",
    "        0.0,\n",
    "        0.0,\n",
    "    )  # Here we can check whether we are currently on the correct position.\n",
    "    try:\n",
    "        while True:\n",
    "            simulation_state = SimulationStateImpl(\n",
    "                data=data, abstraction_to_mujoco_mapping=mapping, camera_views={}\n",
    "            )\n",
    "            scene.handler.handle(\n",
    "                simulation_state, control_interface, STANDARD_CONTROL_FREQUENCY\n",
    "            )\n",
    "            # step simulation\n",
    "            if target != current:\n",
    "                \"\"\"\n",
    "                If we are not on the target we adjust our hinges accordingly.\n",
    "\n",
    "                The stepsize of 0.0025 allows us to approximate the real robots movement better.\n",
    "                If the simulated hinges are forced to the target location directly with big angles, the simulation detects instabilities and wont render, therefore we choose smaller steps.\n",
    "                \"\"\"\n",
    "                step = 0.0025 if target > current else -0.0025\n",
    "                for hinge in mapping.hinge_joint.keys():\n",
    "                    control_interface.set_joint_hinge_position_target(\n",
    "                        hinge.value, current + step\n",
    "                    )\n",
    "                current += step\n",
    "\n",
    "            mujoco.mj_step(model, data)\n",
    "\n",
    "            position = viewer.render()\n",
    "            if position is not None and prev_position != position:\n",
    "                prev_position = position\n",
    "                target = positions[prev_position]\n",
    "\n",
    "    except KeyboardInterrupt:\n",
    "        \"\"\"If we press ctrl-C this script will end with the finally clause.\"\"\"\n",
    "        pass\n",
    "    finally:\n",
    "        viewer.close_viewer()\n",
    "        logging.info(\"Testing done.\")\n"
   ]
  },
  {
   "cell_type": "code",
   "execution_count": 13,
   "metadata": {},
   "outputs": [],
   "source": []
  },
  {
   "cell_type": "code",
   "execution_count": 14,
   "metadata": {},
   "outputs": [],
   "source": [
    "%time\n",
    "main()"
   ]
  },
  {
   "cell_type": "code",
   "execution_count": null,
   "metadata": {},
   "outputs": [],
   "source": []
  }
 ],
 "metadata": {
  "kernelspec": {
   "display_name": "revolve_test",
   "language": "python",
   "name": "python3"
  },
  "language_info": {
   "codemirror_mode": {
    "name": "ipython",
    "version": 3
   },
   "file_extension": ".py",
   "mimetype": "text/x-python",
   "name": "python",
   "nbconvert_exporter": "python",
   "pygments_lexer": "ipython3",
   "version": "3.11.9"
  }
 },
 "nbformat": 4,
 "nbformat_minor": 2
}
